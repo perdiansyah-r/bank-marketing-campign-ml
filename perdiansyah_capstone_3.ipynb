{
 "cells": [
  {
   "cell_type": "markdown",
   "metadata": {},
   "source": [
    "# **Bank Analytics: Marketing Campaign**\n",
    "##### Created by: Perdiansyah Ramadan"
   ]
  },
  {
   "cell_type": "markdown",
   "metadata": {},
   "source": [
    "---"
   ]
  },
  {
   "cell_type": "markdown",
   "metadata": {},
   "source": [
    "# **1. Business Problem & Data Understanding**"
   ]
  },
  {
   "cell_type": "markdown",
   "metadata": {},
   "source": [
    "## **1.1 Business Problem**\n",
    "\n",
    "Bank ingin meningkatkan jumlah nasabah yang berinvestasi dalam deposito berjangka. Mereka melakukan kampanye pemasaran melalui berbagai saluran komunikasi seperti telepon dan ingin memahami faktor-faktor yang mempengaruhi keberhasilan kampanye tersebut.\n",
    "\n",
    "Tujuan model:\n",
    "\n",
    "- Memprediksi apakah seorang calon nasabah akan melakukan deposito berjangka atau tidak berdasarkan karakteristik mereka dan riwayat interaksi dengan bank.\n",
    "- Membantu bank mengoptimalkan strategi pemasaran dengan menargetkan nasabah yang lebih mungkin berlangganan deposito.\n",
    "\n",
    "Variabel Target:\n",
    "- deposit (label klasifikasi): \n",
    "    - 0 = Tidak melakukan deposito \n",
    "    - 1 = Melakukan deposito"
   ]
  },
  {
   "cell_type": "markdown",
   "metadata": {},
   "source": [
    "## **1.2 Data Understanding**\n",
    "\n",
    "Berikut adalah beberapa fitur yang tersedia:\n",
    "\n",
    "| Feature | Deskripsi |\n",
    "| --- | --- |\n",
    "| age | Umur nasabah |\n",
    "| job | Pekerjaan nasabah |\n",
    "| balance | Saldo rata-rata tahunan dalam rekening nasabah |\n",
    "| housing | Apakah nasabah memiliki pinjaman perumahan (yes/no) |\n",
    "| loan | Apakah nasabah memiliki pinjaman pribadi (yes/no) |\n",
    "| contact | Jenis kontak komunikasi (cellular/telephone/unknown) |\n",
    "| month | Bulan terakhir kontak dilakukan |\n",
    "| campaign | Jumlah kontak yang dilakukan dalam kampanye |\n",
    "| pdays | Jumlah hari sejak nasabah terakhir dihubungi (-1 jika belum pernah) |\n",
    "| poutcome | Hasil kampanye pemasaran sebelumnya (success/failure/unknown) |\n",
    "| deposit | Target label (0 = tidak, 1 = ya) |"
   ]
  },
  {
   "cell_type": "markdown",
   "metadata": {},
   "source": [
    "---"
   ]
  },
  {
   "cell_type": "markdown",
   "metadata": {},
   "source": [
    "# **2. Data Cleaning, Feature Selection, & Feature Engineering**"
   ]
  },
  {
   "cell_type": "markdown",
   "metadata": {},
   "source": [
    "## **2.1 Load Dataset dan Exploratory Data Analysis (EDA)**"
   ]
  },
  {
   "cell_type": "markdown",
   "metadata": {},
   "source": [
    "Import dan load dataset:"
   ]
  },
  {
   "cell_type": "code",
   "execution_count": 209,
   "metadata": {},
   "outputs": [
    {
     "data": {
      "text/html": [
       "<div>\n",
       "<style scoped>\n",
       "    .dataframe tbody tr th:only-of-type {\n",
       "        vertical-align: middle;\n",
       "    }\n",
       "\n",
       "    .dataframe tbody tr th {\n",
       "        vertical-align: top;\n",
       "    }\n",
       "\n",
       "    .dataframe thead th {\n",
       "        text-align: right;\n",
       "    }\n",
       "</style>\n",
       "<table border=\"1\" class=\"dataframe\">\n",
       "  <thead>\n",
       "    <tr style=\"text-align: right;\">\n",
       "      <th></th>\n",
       "      <th>age</th>\n",
       "      <th>job</th>\n",
       "      <th>balance</th>\n",
       "      <th>housing</th>\n",
       "      <th>loan</th>\n",
       "      <th>contact</th>\n",
       "      <th>month</th>\n",
       "      <th>campaign</th>\n",
       "      <th>pdays</th>\n",
       "      <th>poutcome</th>\n",
       "      <th>deposit</th>\n",
       "    </tr>\n",
       "  </thead>\n",
       "  <tbody>\n",
       "    <tr>\n",
       "      <th>0</th>\n",
       "      <td>55</td>\n",
       "      <td>admin.</td>\n",
       "      <td>1662</td>\n",
       "      <td>no</td>\n",
       "      <td>no</td>\n",
       "      <td>cellular</td>\n",
       "      <td>jun</td>\n",
       "      <td>2</td>\n",
       "      <td>-1</td>\n",
       "      <td>unknown</td>\n",
       "      <td>yes</td>\n",
       "    </tr>\n",
       "    <tr>\n",
       "      <th>1</th>\n",
       "      <td>39</td>\n",
       "      <td>self-employed</td>\n",
       "      <td>-3058</td>\n",
       "      <td>yes</td>\n",
       "      <td>yes</td>\n",
       "      <td>cellular</td>\n",
       "      <td>apr</td>\n",
       "      <td>3</td>\n",
       "      <td>-1</td>\n",
       "      <td>unknown</td>\n",
       "      <td>yes</td>\n",
       "    </tr>\n",
       "    <tr>\n",
       "      <th>2</th>\n",
       "      <td>51</td>\n",
       "      <td>admin.</td>\n",
       "      <td>3025</td>\n",
       "      <td>no</td>\n",
       "      <td>no</td>\n",
       "      <td>cellular</td>\n",
       "      <td>may</td>\n",
       "      <td>1</td>\n",
       "      <td>352</td>\n",
       "      <td>other</td>\n",
       "      <td>yes</td>\n",
       "    </tr>\n",
       "    <tr>\n",
       "      <th>3</th>\n",
       "      <td>38</td>\n",
       "      <td>services</td>\n",
       "      <td>-87</td>\n",
       "      <td>yes</td>\n",
       "      <td>no</td>\n",
       "      <td>cellular</td>\n",
       "      <td>may</td>\n",
       "      <td>1</td>\n",
       "      <td>-1</td>\n",
       "      <td>unknown</td>\n",
       "      <td>no</td>\n",
       "    </tr>\n",
       "    <tr>\n",
       "      <th>4</th>\n",
       "      <td>36</td>\n",
       "      <td>housemaid</td>\n",
       "      <td>205</td>\n",
       "      <td>yes</td>\n",
       "      <td>no</td>\n",
       "      <td>telephone</td>\n",
       "      <td>nov</td>\n",
       "      <td>4</td>\n",
       "      <td>-1</td>\n",
       "      <td>unknown</td>\n",
       "      <td>no</td>\n",
       "    </tr>\n",
       "  </tbody>\n",
       "</table>\n",
       "</div>"
      ],
      "text/plain": [
       "   age            job  balance housing loan    contact month  campaign  pdays  \\\n",
       "0   55         admin.     1662      no   no   cellular   jun         2     -1   \n",
       "1   39  self-employed    -3058     yes  yes   cellular   apr         3     -1   \n",
       "2   51         admin.     3025      no   no   cellular   may         1    352   \n",
       "3   38       services      -87     yes   no   cellular   may         1     -1   \n",
       "4   36      housemaid      205     yes   no  telephone   nov         4     -1   \n",
       "\n",
       "  poutcome deposit  \n",
       "0  unknown     yes  \n",
       "1  unknown     yes  \n",
       "2    other     yes  \n",
       "3  unknown      no  \n",
       "4  unknown      no  "
      ]
     },
     "execution_count": 209,
     "metadata": {},
     "output_type": "execute_result"
    }
   ],
   "source": [
    "import pandas as pd\n",
    "\n",
    "df = pd.read_csv(\"data_bank_marketing_campaign.csv\")\n",
    "df.head()"
   ]
  },
  {
   "cell_type": "markdown",
   "metadata": {},
   "source": [
    "Lihat informasi dataset:"
   ]
  },
  {
   "cell_type": "code",
   "execution_count": 210,
   "metadata": {},
   "outputs": [
    {
     "name": "stdout",
     "output_type": "stream",
     "text": [
      "<class 'pandas.core.frame.DataFrame'>\n",
      "RangeIndex: 7813 entries, 0 to 7812\n",
      "Data columns (total 11 columns):\n",
      " #   Column    Non-Null Count  Dtype \n",
      "---  ------    --------------  ----- \n",
      " 0   age       7813 non-null   int64 \n",
      " 1   job       7813 non-null   object\n",
      " 2   balance   7813 non-null   int64 \n",
      " 3   housing   7813 non-null   object\n",
      " 4   loan      7813 non-null   object\n",
      " 5   contact   7813 non-null   object\n",
      " 6   month     7813 non-null   object\n",
      " 7   campaign  7813 non-null   int64 \n",
      " 8   pdays     7813 non-null   int64 \n",
      " 9   poutcome  7813 non-null   object\n",
      " 10  deposit   7813 non-null   object\n",
      "dtypes: int64(4), object(7)\n",
      "memory usage: 671.6+ KB\n"
     ]
    }
   ],
   "source": [
    "df.info()"
   ]
  },
  {
   "cell_type": "markdown",
   "metadata": {},
   "source": [
    "Dari hasil df.info(), ada beberapa poin yang bisa kita perhatikan:\n",
    "1. Jumlah Data:\n",
    "    - Dataset memiliki 7.813 baris dan 11 kolom.\n",
    "2. Tipe Data:\n",
    "    - Ada 4 kolom numerik (int64): age, balance, campaign, dan pdays.\n",
    "    - Ada 7 kolom kategorikal (object): job, housing, loan, contact, month, poutcome, dan deposit.\n",
    "3. Missing Values:\n",
    "    - Tidak ada kolom yang memiliki missing values karena jumlah non-null di setiap kolom sama dengan total data (7813).\n",
    "    - Namun selanjutnya tetap perlu memeriksa apakah ada nilai yang tidak sesuai (seperti unknown di kolom kategori)."
   ]
  },
  {
   "cell_type": "markdown",
   "metadata": {},
   "source": [
    "Cek distribusi `deposit`:"
   ]
  },
  {
   "cell_type": "code",
   "execution_count": 211,
   "metadata": {},
   "outputs": [
    {
     "data": {
      "text/plain": [
       "deposit\n",
       "no     0.522335\n",
       "yes    0.477665\n",
       "Name: proportion, dtype: float64"
      ]
     },
     "execution_count": 211,
     "metadata": {},
     "output_type": "execute_result"
    }
   ],
   "source": [
    "df['deposit'].value_counts(normalize=True)"
   ]
  },
  {
   "cell_type": "markdown",
   "metadata": {},
   "source": [
    "Dari hasil distribusi target deposit, kita bisa melihat bahwa:\n",
    "- 52.2% dari data adalah \"no\" (tidak melakukan deposito).\n",
    "- 47.8% dari data adalah \"yes\" (melakukan deposito).\n",
    "\n",
    "Kesimpulan:\n",
    "- Dataset cukup seimbang, karena selisih antara kelas no dan yes tidak terlalu besar."
   ]
  },
  {
   "cell_type": "markdown",
   "metadata": {},
   "source": [
    "Cek missing values / `unknown`:"
   ]
  },
  {
   "cell_type": "code",
   "execution_count": 212,
   "metadata": {},
   "outputs": [
    {
     "name": "stdout",
     "output_type": "stream",
     "text": [
      "job: ['admin.' 'self-employed' 'services' 'housemaid' 'technician' 'management'\n",
      " 'student' 'blue-collar' 'entrepreneur' 'retired' 'unemployed' 'unknown']\n",
      "housing: ['no' 'yes']\n",
      "loan: ['no' 'yes']\n",
      "contact: ['cellular' 'telephone' 'unknown']\n",
      "month: ['jun' 'apr' 'may' 'nov' 'jan' 'sep' 'feb' 'mar' 'aug' 'jul' 'oct' 'dec']\n",
      "poutcome: ['unknown' 'other' 'failure' 'success']\n"
     ]
    }
   ],
   "source": [
    "for col in ['job', 'housing', 'loan', 'contact', 'month', 'poutcome']:\n",
    "    print(f\"{col}: {df[col].unique()}\")"
   ]
  },
  {
   "cell_type": "code",
   "execution_count": 213,
   "metadata": {},
   "outputs": [
    {
     "name": "stdout",
     "output_type": "stream",
     "text": [
      "job\n",
      "management       1792\n",
      "blue-collar      1346\n",
      "technician       1291\n",
      "admin.            936\n",
      "services          658\n",
      "retired           540\n",
      "self-employed     280\n",
      "unemployed        249\n",
      "student           247\n",
      "entrepreneur      236\n",
      "housemaid         184\n",
      "unknown            54\n",
      "Name: count, dtype: int64\n",
      "\n",
      "Total data: 7813\n"
     ]
    }
   ],
   "source": [
    "for col in ['job']:\n",
    "    print(f\"{df[col].value_counts()}\\n\")\n",
    "print(f\"Total data: {df['job'].value_counts().sum()}\")"
   ]
  },
  {
   "cell_type": "markdown",
   "metadata": {},
   "source": [
    "Karena hanya 54 dari 7813 data (sekitar 0.69%), data \"unknown\" dapat dihapus pada kolom job tanpa mengurangi banyak data."
   ]
  },
  {
   "cell_type": "code",
   "execution_count": 214,
   "metadata": {},
   "outputs": [
    {
     "name": "stdout",
     "output_type": "stream",
     "text": [
      "contact\n",
      "cellular     5628\n",
      "unknown      1639\n",
      "telephone     546\n",
      "Name: count, dtype: int64\n",
      "\n",
      "Total data: 7813\n"
     ]
    }
   ],
   "source": [
    "for col in ['contact']:\n",
    "    print(f\"{df[col].value_counts()}\\n\")\n",
    "print(f\"Total data: {df['contact'].value_counts().sum()}\")"
   ]
  },
  {
   "cell_type": "markdown",
   "metadata": {},
   "source": [
    "Karena cukup banyak (1639 dari 7813, sekitar 21%), `unknown` tidak bisa menghapus karena akan membuang terlalu banyak data.\n",
    "\n",
    "Solusi: Biarkan `unknown` sebagai kategori sendiri."
   ]
  },
  {
   "cell_type": "code",
   "execution_count": 215,
   "metadata": {},
   "outputs": [
    {
     "name": "stdout",
     "output_type": "stream",
     "text": [
      "poutcome\n",
      "unknown    5819\n",
      "failure     848\n",
      "success     761\n",
      "other       385\n",
      "Name: count, dtype: int64\n",
      "\n",
      "Total data: 7813\n"
     ]
    }
   ],
   "source": [
    "for col in ['poutcome']:\n",
    "    print(f\"{df[col].value_counts()}\\n\")\n",
    "print(f\"Total data: {df['poutcome'].value_counts().sum()}\")"
   ]
  },
  {
   "cell_type": "markdown",
   "metadata": {},
   "source": [
    "Karena 5819 dari 7813 data (sekitar 74%) adalah `unknown`, data tidak bisa dihapus.\n",
    "\n",
    "Solusi: Biarkan `unknown` sebagai kategori sendiri."
   ]
  },
  {
   "cell_type": "markdown",
   "metadata": {},
   "source": [
    "## **2.2 Data Cleaning**"
   ]
  },
  {
   "cell_type": "markdown",
   "metadata": {},
   "source": [
    "Menghapus data `unknown` pada kolom `job`"
   ]
  },
  {
   "cell_type": "code",
   "execution_count": 216,
   "metadata": {},
   "outputs": [
    {
     "name": "stdout",
     "output_type": "stream",
     "text": [
      "job\n",
      "management       1792\n",
      "blue-collar      1346\n",
      "technician       1291\n",
      "admin.            936\n",
      "services          658\n",
      "retired           540\n",
      "self-employed     280\n",
      "unemployed        249\n",
      "student           247\n",
      "entrepreneur      236\n",
      "housemaid         184\n",
      "Name: count, dtype: int64\n",
      "\n"
     ]
    }
   ],
   "source": [
    "df = df[df['job'] != 'unknown']\n",
    "for col in ['job']:\n",
    "    print(f\"{df[col].value_counts()}\\n\")"
   ]
  },
  {
   "cell_type": "markdown",
   "metadata": {},
   "source": [
    "Mengubah data unknown pada kolom `contact` supaya lebih informatif"
   ]
  },
  {
   "cell_type": "code",
   "execution_count": 217,
   "metadata": {},
   "outputs": [
    {
     "name": "stdout",
     "output_type": "stream",
     "text": [
      "contact\n",
      "cellular      5592\n",
      "no_contact    1631\n",
      "telephone      536\n",
      "Name: count, dtype: int64\n",
      "\n"
     ]
    }
   ],
   "source": [
    "df['contact'] = df['contact'].replace('unknown', 'no_contact')\n",
    "for col in ['contact']:\n",
    "    print(f\"{df[col].value_counts()}\\n\")"
   ]
  },
  {
   "cell_type": "markdown",
   "metadata": {},
   "source": [
    "Mengubah data unknown pada kolom `poutcome` supaya lebih informatif"
   ]
  },
  {
   "cell_type": "code",
   "execution_count": 218,
   "metadata": {},
   "outputs": [
    {
     "name": "stdout",
     "output_type": "stream",
     "text": [
      "poutcome\n",
      "no_status    5779\n",
      "failure       841\n",
      "success       754\n",
      "other         385\n",
      "Name: count, dtype: int64\n",
      "\n"
     ]
    }
   ],
   "source": [
    "df['poutcome'] = df['poutcome'].replace('unknown', 'no_status')\n",
    "for col in ['poutcome']:\n",
    "    print(f\"{df[col].value_counts()}\\n\")"
   ]
  },
  {
   "cell_type": "markdown",
   "metadata": {},
   "source": [
    "Mengubah kolom target `deposit` dari yes/no menjadi 0/1"
   ]
  },
  {
   "cell_type": "code",
   "execution_count": 219,
   "metadata": {},
   "outputs": [
    {
     "data": {
      "text/plain": [
       "deposit\n",
       "0    0.522361\n",
       "1    0.477639\n",
       "Name: proportion, dtype: float64"
      ]
     },
     "execution_count": 219,
     "metadata": {},
     "output_type": "execute_result"
    }
   ],
   "source": [
    "df['deposit'] = df['deposit'].map({'yes': 1, 'no': 0})\n",
    "df['deposit'].value_counts(normalize=True)"
   ]
  },
  {
   "cell_type": "markdown",
   "metadata": {},
   "source": [
    "Mengecek outlier pada kolom numerik"
   ]
  },
  {
   "cell_type": "code",
   "execution_count": 220,
   "metadata": {},
   "outputs": [
    {
     "data": {
      "image/png": "[encoded data removed]",
      "text/plain": [
       "<Figure size 1200x600 with 4 Axes>"
      ]
     },
     "metadata": {},
     "output_type": "display_data"
    }
   ],
   "source": [
    "import seaborn as sns\n",
    "import matplotlib.pyplot as plt\n",
    "\n",
    "num_cols = ['age', 'balance', 'campaign', 'pdays']\n",
    "\n",
    "plt.figure(figsize=(12, 6))\n",
    "for i, col in enumerate(num_cols, 1):\n",
    "    plt.subplot(2, 2, i)\n",
    "    sns.boxplot(y=df[col])\n",
    "    plt.title(f'Boxplot of {col}')\n",
    "plt.tight_layout()\n",
    "plt.show()"
   ]
  },
  {
   "cell_type": "markdown",
   "metadata": {},
   "source": [
    "Dari hasil boxplot yang kamu tampilkan, terlihat bahwa keempat fitur numerik (age, balance, campaign, pdays) memiliki outlier. Berikut analisisnya:\n",
    "\n",
    "- age: Ada outlier di usia lebih dari 70 tahun.\n",
    "- balance: Distribusi sangat skewed, dengan banyak outlier di atas 10.000.\n",
    "- campaign: Ada outlier dengan jumlah kontak yang lebih dari 10 kali.\n",
    "- pdays: Ada banyak outlier di atas 400 hari."
   ]
  },
  {
   "cell_type": "code",
   "execution_count": 221,
   "metadata": {},
   "outputs": [
    {
     "data": {
      "text/plain": [
       "array([18, 19, 20, 21, 22, 23, 24, 25, 26, 27, 28, 29, 30, 31, 32, 33, 34,\n",
       "       35, 36, 37, 38, 39, 40, 41, 42, 43, 44, 45, 46, 47, 48, 49, 50, 51,\n",
       "       52, 53, 54, 55, 56, 57, 58, 59, 60, 61, 62, 63, 64, 65, 66, 67, 68,\n",
       "       69, 70, 71, 72, 73, 74, 75, 76, 77, 78, 79, 80, 81, 82, 83, 84, 85,\n",
       "       86, 87, 88, 90, 92, 93, 95])"
      ]
     },
     "execution_count": 221,
     "metadata": {},
     "output_type": "execute_result"
    }
   ],
   "source": [
    "df['age'].sort_values().unique()"
   ]
  },
  {
   "cell_type": "code",
   "execution_count": 222,
   "metadata": {},
   "outputs": [
    {
     "data": {
      "image/png": "[encoded data removed]",
      "text/plain": [
       "<Figure size 640x480 with 1 Axes>"
      ]
     },
     "metadata": {},
     "output_type": "display_data"
    }
   ],
   "source": [
    "sns.histplot(df['age'], bins=50, kde=True)\n",
    "plt.show()"
   ]
  },
  {
   "cell_type": "markdown",
   "metadata": {},
   "source": [
    "Data pada kolom age masih masuk akal, karena range umur nasabah di 18-95 tahun maka outlier akan dibiarkan"
   ]
  },
  {
   "cell_type": "code",
   "execution_count": 223,
   "metadata": {},
   "outputs": [
    {
     "data": {
      "text/plain": [
       "array([-6847, -3058, -2282, ..., 51439, 52587, 66653])"
      ]
     },
     "execution_count": 223,
     "metadata": {},
     "output_type": "execute_result"
    }
   ],
   "source": [
    "df['balance'].sort_values().unique()"
   ]
  },
  {
   "cell_type": "code",
   "execution_count": 224,
   "metadata": {},
   "outputs": [
    {
     "data": {
      "image/png": "[encoded data removed]",
      "text/plain": [
       "<Figure size 640x480 with 1 Axes>"
      ]
     },
     "metadata": {},
     "output_type": "display_data"
    }
   ],
   "source": [
    "sns.histplot(df['balance'], bins=50, kde=True)\n",
    "plt.show()"
   ]
  },
  {
   "cell_type": "code",
   "execution_count": 225,
   "metadata": {},
   "outputs": [
    {
     "data": {
      "text/plain": [
       "array([ 1,  2,  3,  4,  5,  6,  7,  8,  9, 10, 11, 12, 13, 14, 15, 16, 17,\n",
       "       18, 19, 20, 21, 22, 23, 24, 25, 26, 28, 29, 30, 33, 43, 63])"
      ]
     },
     "execution_count": 225,
     "metadata": {},
     "output_type": "execute_result"
    }
   ],
   "source": [
    "df['campaign'].sort_values().unique()"
   ]
  },
  {
   "cell_type": "code",
   "execution_count": 226,
   "metadata": {},
   "outputs": [
    {
     "data": {
      "image/png": "[encoded data removed]",
      "text/plain": [
       "<Figure size 640x480 with 1 Axes>"
      ]
     },
     "metadata": {},
     "output_type": "display_data"
    }
   ],
   "source": [
    "sns.histplot(df['campaign'], bins=50, kde=True)\n",
    "plt.show()"
   ]
  },
  {
   "cell_type": "code",
   "execution_count": 227,
   "metadata": {},
   "outputs": [
    {
     "data": {
      "text/plain": [
       "array([ -1,   1,   2,   4,   5,   6,   8,   9,  10,  12,  13,  14,  17,\n",
       "        20,  21,  24,  28,  29,  31,  33,  34,  35,  36,  37,  38,  40,\n",
       "        41,  43,  44,  48,  50,  52,  53,  55,  56,  57,  58,  59,  60,\n",
       "        61,  62,  63,  64,  66,  67,  68,  69,  70,  71,  72,  73,  74,\n",
       "        75,  76,  77,  78,  79,  80,  81,  82,  83,  84,  85,  86,  87,\n",
       "        88,  89,  90,  91,  92,  93,  94,  95,  96,  97,  98,  99, 100,\n",
       "       101, 102, 103, 104, 105, 106, 107, 109, 110, 111, 113, 114, 115,\n",
       "       116, 117, 118, 119, 120, 121, 122, 123, 124, 126, 127, 128, 129,\n",
       "       130, 131, 132, 133, 134, 135, 136, 137, 138, 139, 140, 141, 143,\n",
       "       144, 145, 146, 147, 148, 149, 150, 152, 153, 154, 155, 156, 157,\n",
       "       160, 161, 162, 163, 164, 165, 166, 167, 168, 169, 170, 171, 172,\n",
       "       173, 174, 175, 176, 177, 178, 179, 180, 181, 182, 183, 184, 185,\n",
       "       186, 187, 188, 189, 190, 191, 192, 193, 194, 195, 196, 197, 198,\n",
       "       199, 200, 201, 202, 203, 204, 205, 206, 207, 208, 209, 210, 212,\n",
       "       213, 214, 216, 217, 221, 222, 223, 224, 225, 227, 228, 230, 232,\n",
       "       233, 234, 235, 236, 237, 238, 239, 241, 242, 243, 244, 245, 246,\n",
       "       247, 250, 251, 252, 253, 254, 255, 256, 257, 258, 259, 260, 261,\n",
       "       262, 263, 264, 265, 266, 267, 268, 269, 270, 271, 272, 273, 274,\n",
       "       275, 276, 277, 278, 279, 280, 281, 282, 283, 284, 285, 286, 287,\n",
       "       288, 289, 290, 291, 292, 293, 294, 295, 296, 297, 298, 299, 300,\n",
       "       301, 302, 303, 304, 305, 306, 307, 308, 309, 310, 311, 312, 314,\n",
       "       315, 316, 317, 318, 319, 320, 321, 322, 323, 324, 325, 326, 327,\n",
       "       328, 329, 330, 331, 332, 333, 334, 335, 336, 337, 338, 339, 340,\n",
       "       341, 342, 343, 344, 345, 346, 347, 348, 349, 350, 351, 352, 353,\n",
       "       354, 355, 356, 357, 358, 359, 360, 361, 362, 363, 364, 365, 366,\n",
       "       367, 368, 369, 370, 371, 372, 373, 374, 375, 376, 378, 381, 384,\n",
       "       385, 386, 388, 389, 390, 391, 392, 394, 397, 399, 405, 407, 412,\n",
       "       414, 415, 417, 420, 421, 422, 424, 425, 426, 427, 428, 430, 433,\n",
       "       435, 436, 437, 439, 440, 442, 444, 446, 449, 450, 455, 457, 458,\n",
       "       459, 461, 462, 466, 469, 470, 472, 474, 478, 479, 490, 491, 503,\n",
       "       504, 515, 520, 521, 532, 535, 541, 544, 551, 555, 561, 579, 587,\n",
       "       594, 595, 626, 651, 690, 717, 728, 749, 761, 769, 771, 772, 776,\n",
       "       778, 782, 805, 828, 854])"
      ]
     },
     "execution_count": 227,
     "metadata": {},
     "output_type": "execute_result"
    }
   ],
   "source": [
    "df['pdays'].sort_values().unique()"
   ]
  },
  {
   "cell_type": "code",
   "execution_count": 228,
   "metadata": {},
   "outputs": [
    {
     "data": {
      "image/png": "[encoded data removed]",
      "text/plain": [
       "<Figure size 640x480 with 1 Axes>"
      ]
     },
     "metadata": {},
     "output_type": "display_data"
    }
   ],
   "source": [
    "sns.histplot(df['pdays'], bins=50, kde=True)\n",
    "plt.show()"
   ]
  },
  {
   "cell_type": "markdown",
   "metadata": {},
   "source": [
    "## **2.3 Feature Engineering & Encoding**"
   ]
  },
  {
   "cell_type": "markdown",
   "metadata": {},
   "source": [
    "Memisahkan fitur kategorikal dan numerik"
   ]
  },
  {
   "cell_type": "code",
   "execution_count": 229,
   "metadata": {},
   "outputs": [],
   "source": [
    "categorical_cols = df.select_dtypes(include=['object']).columns\n",
    "numerical_cols = df.select_dtypes(exclude=['object']).columns"
   ]
  },
  {
   "cell_type": "markdown",
   "metadata": {},
   "source": [
    "One-Hot Encoding untuk Fitur Kategorikal"
   ]
  },
  {
   "cell_type": "code",
   "execution_count": 230,
   "metadata": {},
   "outputs": [],
   "source": [
    "from sklearn.preprocessing import OneHotEncoder\n",
    "\n",
    "encoder = OneHotEncoder(handle_unknown='ignore', sparse_output=False)\n",
    "encoded_cols = pd.DataFrame(encoder.fit_transform(df[categorical_cols]))\n",
    "\n",
    "# Ubah nama kolom\n",
    "encoded_cols.columns = encoder.get_feature_names_out(categorical_cols)\n",
    "\n",
    "# Gabungkan dengan data asli (hapus kolom kategorikal lama)\n",
    "df_final = pd.concat([df[numerical_cols], encoded_cols], axis=1)"
   ]
  },
  {
   "cell_type": "code",
   "execution_count": 231,
   "metadata": {},
   "outputs": [],
   "source": [
    "from sklearn.preprocessing import LabelEncoder\n",
    "\n",
    "for col in categorical_cols:\n",
    "    df[col] = LabelEncoder().fit_transform(df[col])"
   ]
  },
  {
   "cell_type": "code",
   "execution_count": 232,
   "metadata": {},
   "outputs": [
    {
     "data": {
      "text/html": [
       "<div>\n",
       "<style scoped>\n",
       "    .dataframe tbody tr th:only-of-type {\n",
       "        vertical-align: middle;\n",
       "    }\n",
       "\n",
       "    .dataframe tbody tr th {\n",
       "        vertical-align: top;\n",
       "    }\n",
       "\n",
       "    .dataframe thead th {\n",
       "        text-align: right;\n",
       "    }\n",
       "</style>\n",
       "<table border=\"1\" class=\"dataframe\">\n",
       "  <thead>\n",
       "    <tr style=\"text-align: right;\">\n",
       "      <th></th>\n",
       "      <th>age</th>\n",
       "      <th>job</th>\n",
       "      <th>balance</th>\n",
       "      <th>housing</th>\n",
       "      <th>loan</th>\n",
       "      <th>contact</th>\n",
       "      <th>month</th>\n",
       "      <th>campaign</th>\n",
       "      <th>pdays</th>\n",
       "      <th>poutcome</th>\n",
       "      <th>deposit</th>\n",
       "    </tr>\n",
       "  </thead>\n",
       "  <tbody>\n",
       "    <tr>\n",
       "      <th>0</th>\n",
       "      <td>55</td>\n",
       "      <td>0</td>\n",
       "      <td>1662</td>\n",
       "      <td>0</td>\n",
       "      <td>0</td>\n",
       "      <td>0</td>\n",
       "      <td>6</td>\n",
       "      <td>2</td>\n",
       "      <td>-1</td>\n",
       "      <td>1</td>\n",
       "      <td>1</td>\n",
       "    </tr>\n",
       "    <tr>\n",
       "      <th>1</th>\n",
       "      <td>39</td>\n",
       "      <td>6</td>\n",
       "      <td>-3058</td>\n",
       "      <td>1</td>\n",
       "      <td>1</td>\n",
       "      <td>0</td>\n",
       "      <td>0</td>\n",
       "      <td>3</td>\n",
       "      <td>-1</td>\n",
       "      <td>1</td>\n",
       "      <td>1</td>\n",
       "    </tr>\n",
       "    <tr>\n",
       "      <th>2</th>\n",
       "      <td>51</td>\n",
       "      <td>0</td>\n",
       "      <td>3025</td>\n",
       "      <td>0</td>\n",
       "      <td>0</td>\n",
       "      <td>0</td>\n",
       "      <td>8</td>\n",
       "      <td>1</td>\n",
       "      <td>352</td>\n",
       "      <td>2</td>\n",
       "      <td>1</td>\n",
       "    </tr>\n",
       "    <tr>\n",
       "      <th>3</th>\n",
       "      <td>38</td>\n",
       "      <td>7</td>\n",
       "      <td>-87</td>\n",
       "      <td>1</td>\n",
       "      <td>0</td>\n",
       "      <td>0</td>\n",
       "      <td>8</td>\n",
       "      <td>1</td>\n",
       "      <td>-1</td>\n",
       "      <td>1</td>\n",
       "      <td>0</td>\n",
       "    </tr>\n",
       "    <tr>\n",
       "      <th>4</th>\n",
       "      <td>36</td>\n",
       "      <td>3</td>\n",
       "      <td>205</td>\n",
       "      <td>1</td>\n",
       "      <td>0</td>\n",
       "      <td>2</td>\n",
       "      <td>9</td>\n",
       "      <td>4</td>\n",
       "      <td>-1</td>\n",
       "      <td>1</td>\n",
       "      <td>0</td>\n",
       "    </tr>\n",
       "  </tbody>\n",
       "</table>\n",
       "</div>"
      ],
      "text/plain": [
       "   age  job  balance  housing  loan  contact  month  campaign  pdays  \\\n",
       "0   55    0     1662        0     0        0      6         2     -1   \n",
       "1   39    6    -3058        1     1        0      0         3     -1   \n",
       "2   51    0     3025        0     0        0      8         1    352   \n",
       "3   38    7      -87        1     0        0      8         1     -1   \n",
       "4   36    3      205        1     0        2      9         4     -1   \n",
       "\n",
       "   poutcome  deposit  \n",
       "0         1        1  \n",
       "1         1        1  \n",
       "2         2        1  \n",
       "3         1        0  \n",
       "4         1        0  "
      ]
     },
     "execution_count": 232,
     "metadata": {},
     "output_type": "execute_result"
    }
   ],
   "source": [
    "df.head()"
   ]
  },
  {
   "cell_type": "code",
   "execution_count": 233,
   "metadata": {},
   "outputs": [
    {
     "name": "stdout",
     "output_type": "stream",
     "text": [
      "<class 'pandas.core.frame.DataFrame'>\n",
      "Index: 7759 entries, 0 to 7812\n",
      "Data columns (total 11 columns):\n",
      " #   Column    Non-Null Count  Dtype\n",
      "---  ------    --------------  -----\n",
      " 0   age       7759 non-null   int64\n",
      " 1   job       7759 non-null   int64\n",
      " 2   balance   7759 non-null   int64\n",
      " 3   housing   7759 non-null   int64\n",
      " 4   loan      7759 non-null   int64\n",
      " 5   contact   7759 non-null   int64\n",
      " 6   month     7759 non-null   int64\n",
      " 7   campaign  7759 non-null   int64\n",
      " 8   pdays     7759 non-null   int64\n",
      " 9   poutcome  7759 non-null   int64\n",
      " 10  deposit   7759 non-null   int64\n",
      "dtypes: int64(11)\n",
      "memory usage: 985.4 KB\n"
     ]
    }
   ],
   "source": [
    "df.info()"
   ]
  },
  {
   "cell_type": "code",
   "execution_count": 234,
   "metadata": {},
   "outputs": [
    {
     "name": "stdout",
     "output_type": "stream",
     "text": [
      "deposit\n",
      "0    0.522361\n",
      "1    0.477639\n",
      "Name: proportion, dtype: float64\n"
     ]
    }
   ],
   "source": [
    "print(df['deposit'].value_counts(normalize=True))"
   ]
  },
  {
   "cell_type": "markdown",
   "metadata": {},
   "source": [
    "## **2.3 Feature Selection**"
   ]
  },
  {
   "cell_type": "markdown",
   "metadata": {},
   "source": [
    "Memisahkan fitur (X) dan target (y)"
   ]
  },
  {
   "cell_type": "code",
   "execution_count": 235,
   "metadata": {},
   "outputs": [],
   "source": [
    "# Pisahkan fitur dan target\n",
    "X = df.drop(columns=[\"deposit\"])  # Pastikan 'df' adalah dataset setelah preprocessing\n",
    "y = df[\"deposit\"]"
   ]
  },
  {
   "cell_type": "markdown",
   "metadata": {},
   "source": [
    "Menggunakan Feature Importance dari Model Tree-Based"
   ]
  },
  {
   "cell_type": "code",
   "execution_count": 236,
   "metadata": {},
   "outputs": [
    {
     "data": {
      "text/plain": [
       "<Axes: >"
      ]
     },
     "execution_count": 236,
     "metadata": {},
     "output_type": "execute_result"
    },
    {
     "data": {
      "image/png": "[encoded data removed]",
      "text/plain": [
       "<Figure size 640x480 with 1 Axes>"
      ]
     },
     "metadata": {},
     "output_type": "display_data"
    }
   ],
   "source": [
    "from sklearn.ensemble import RandomForestClassifier\n",
    "import pandas as pd\n",
    "\n",
    "# Inisialisasi dan latih model Random Forest\n",
    "rf = RandomForestClassifier(n_estimators=100, random_state=42)\n",
    "rf.fit(X, y)\n",
    "\n",
    "# Ambil feature importance\n",
    "feature_importance = pd.Series(rf.feature_importances_, index=X.columns)\n",
    "feature_importance.sort_values(ascending=False).plot(kind=\"bar\")"
   ]
  },
  {
   "cell_type": "markdown",
   "metadata": {},
   "source": [
    "Dari hasil feature importance ini, balance dan age adalah dua fitur yang paling berpengaruh terhadap prediksi, diikuti oleh month, job, dan campaign.\n",
    "\n",
    "Rekomendasi langkah berikutnya:\n",
    "- Pilih fitur dengan importance yang signifikan seperti balance, age, month, job, campaign, poutcome, dan pdays"
   ]
  },
  {
   "cell_type": "code",
   "execution_count": 237,
   "metadata": {},
   "outputs": [],
   "source": [
    "selected_features = [\"balance\", \"age\", \"month\", \"job\", \"campaign\", \"poutcome\", \"pdays\"]\n",
    "X_selected = X[selected_features]"
   ]
  },
  {
   "cell_type": "markdown",
   "metadata": {},
   "source": [
    "# **3. Analytics (Modeling & Evaluation)**"
   ]
  },
  {
   "cell_type": "markdown",
   "metadata": {},
   "source": [
    "## **3.1 Split Data**"
   ]
  },
  {
   "cell_type": "markdown",
   "metadata": {},
   "source": [
    "Membagi data menjadi train dan test"
   ]
  },
  {
   "cell_type": "code",
   "execution_count": 238,
   "metadata": {},
   "outputs": [],
   "source": [
    "from sklearn.model_selection import train_test_split\n",
    "\n",
    "X_train, X_test, y_train, y_test = train_test_split(X_selected, y, test_size=0.2, random_state=42, stratify=y)"
   ]
  },
  {
   "cell_type": "markdown",
   "metadata": {},
   "source": [
    "## **3.2 Pemilihan & Evaluasi Model**"
   ]
  },
  {
   "cell_type": "markdown",
   "metadata": {},
   "source": [
    "Melatih model menggunakan Decision Tree"
   ]
  },
  {
   "cell_type": "code",
   "execution_count": 239,
   "metadata": {},
   "outputs": [
    {
     "name": "stdout",
     "output_type": "stream",
     "text": [
      "Accuracy: 0.6153350515463918\n",
      "              precision    recall  f1-score   support\n",
      "\n",
      "           0       0.64      0.61      0.62       811\n",
      "           1       0.59      0.62      0.61       741\n",
      "\n",
      "    accuracy                           0.62      1552\n",
      "   macro avg       0.62      0.62      0.62      1552\n",
      "weighted avg       0.62      0.62      0.62      1552\n",
      "\n"
     ]
    }
   ],
   "source": [
    "from sklearn.tree import DecisionTreeClassifier\n",
    "from sklearn.metrics import accuracy_score, classification_report\n",
    "\n",
    "model_dt = DecisionTreeClassifier(random_state=42)\n",
    "model_dt.fit(X_train, y_train)\n",
    "\n",
    "# Prediksi\n",
    "y_pred = model_dt.predict(X_test)\n",
    "\n",
    "# Evaluasi\n",
    "print(\"Accuracy:\", accuracy_score(y_test, y_pred))\n",
    "print(classification_report(y_test, y_pred))"
   ]
  },
  {
   "cell_type": "markdown",
   "metadata": {},
   "source": [
    "Hasil Decision Tree menunjukkan akurasi 61.5%, dengan precision dan recall sekitar 60-64% untuk kedua kelas."
   ]
  },
  {
   "cell_type": "markdown",
   "metadata": {},
   "source": [
    "Analisis Hasil:\n",
    "- Akurasi 61.5% masih tergolong rendah, terutama untuk dataset Bank Marketing Campaign, di mana model harus bisa lebih akurat dalam memprediksi pelanggan yang akan melakukan deposito.\n",
    "- Precision dan Recall hampir seimbang, artinya model tidak terlalu berat sebelah dalam memprediksi kelas 0 atau 1.\n",
    "- F1-score sekitar 61-62%, yang menunjukkan bahwa model masih bisa ditingkatkan."
   ]
  },
  {
   "cell_type": "markdown",
   "metadata": {},
   "source": [
    "Melatih model menggunakan Random Forest"
   ]
  },
  {
   "cell_type": "code",
   "execution_count": 240,
   "metadata": {},
   "outputs": [
    {
     "name": "stdout",
     "output_type": "stream",
     "text": [
      "Accuracy: 0.6707474226804123\n",
      "              precision    recall  f1-score   support\n",
      "\n",
      "           0       0.67      0.73      0.70       811\n",
      "           1       0.67      0.61      0.64       741\n",
      "\n",
      "    accuracy                           0.67      1552\n",
      "   macro avg       0.67      0.67      0.67      1552\n",
      "weighted avg       0.67      0.67      0.67      1552\n",
      "\n"
     ]
    }
   ],
   "source": [
    "from sklearn.ensemble import RandomForestClassifier\n",
    "from sklearn.metrics import accuracy_score, classification_report\n",
    "\n",
    "# Inisialisasi model Random Forest\n",
    "rf_model = RandomForestClassifier(n_estimators=100, random_state=42)\n",
    "\n",
    "# Train model\n",
    "rf_model.fit(X_train, y_train)\n",
    "\n",
    "# Prediksi pada data uji\n",
    "y_pred_rf = rf_model.predict(X_test)\n",
    "\n",
    "# Evaluasi model\n",
    "accuracy_rf = accuracy_score(y_test, y_pred_rf)\n",
    "print(\"Accuracy:\", accuracy_rf)\n",
    "print(classification_report(y_test, y_pred_rf))"
   ]
  },
  {
   "cell_type": "markdown",
   "metadata": {},
   "source": [
    "Hasil Random Forest lebih baik dibandingkan Decision Tree!\n",
    "- Akurasi meningkat dari 61.5% → 67.1%\n",
    "- Precision & Recall lebih seimbang\n",
    "- F1-score juga lebih tinggi"
   ]
  },
  {
   "cell_type": "markdown",
   "metadata": {},
   "source": [
    "Melatih model menggunakan XGBoost"
   ]
  },
  {
   "cell_type": "code",
   "execution_count": 245,
   "metadata": {},
   "outputs": [
    {
     "name": "stdout",
     "output_type": "stream",
     "text": [
      "Accuracy: 0.6694587628865979\n",
      "              precision    recall  f1-score   support\n",
      "\n",
      "           0       0.66      0.74      0.70       811\n",
      "           1       0.68      0.59      0.63       741\n",
      "\n",
      "    accuracy                           0.67      1552\n",
      "   macro avg       0.67      0.67      0.67      1552\n",
      "weighted avg       0.67      0.67      0.67      1552\n",
      "\n"
     ]
    }
   ],
   "source": [
    "import xgboost as xgb\n",
    "from sklearn.metrics import accuracy_score, classification_report\n",
    "\n",
    "# Inisialisasi model XGBoost tanpa use_label_encoder\n",
    "model_xgb = xgb.XGBClassifier(objective='binary:logistic', eval_metric='logloss')\n",
    "\n",
    "# Latih model\n",
    "model_xgb.fit(X_train, y_train)\n",
    "\n",
    "# Prediksi pada data uji\n",
    "y_pred_xgb = model_xgb.predict(X_test)\n",
    "\n",
    "# Evaluasi model\n",
    "accuracy = accuracy_score(y_test, y_pred_xgb)\n",
    "report = classification_report(y_test, y_pred_xgb)\n",
    "\n",
    "print(f\"Accuracy: {accuracy}\")\n",
    "print(report)"
   ]
  },
  {
   "cell_type": "markdown",
   "metadata": {},
   "source": [
    "Melakukan Tuning Random Forest dengan RandomizedSearchCV"
   ]
  },
  {
   "cell_type": "code",
   "execution_count": 246,
   "metadata": {},
   "outputs": [
    {
     "name": "stdout",
     "output_type": "stream",
     "text": [
      "Best Parameters: {'max_depth': 16, 'max_features': 'log2', 'min_samples_leaf': 9, 'min_samples_split': 3, 'n_estimators': 102}\n",
      "Accuracy: 0.6997422680412371\n",
      "              precision    recall  f1-score   support\n",
      "\n",
      "           0       0.68      0.81      0.74       811\n",
      "           1       0.74      0.58      0.65       741\n",
      "\n",
      "    accuracy                           0.70      1552\n",
      "   macro avg       0.71      0.69      0.69      1552\n",
      "weighted avg       0.71      0.70      0.70      1552\n",
      "\n"
     ]
    }
   ],
   "source": [
    "from sklearn.ensemble import RandomForestClassifier\n",
    "from sklearn.model_selection import RandomizedSearchCV\n",
    "from scipy.stats import randint\n",
    "\n",
    "# Definisikan parameter yang akan dituning\n",
    "param_dist = {\n",
    "    'n_estimators': randint(50, 500),\n",
    "    'max_depth': randint(3, 20),\n",
    "    'min_samples_split': randint(2, 10),\n",
    "    'min_samples_leaf': randint(1, 10),\n",
    "    'max_features': ['sqrt', 'log2', None]\n",
    "}\n",
    "\n",
    "# Buat model Random Forest\n",
    "rf = RandomForestClassifier(random_state=42)\n",
    "\n",
    "# Randomized Search dengan 5-fold Cross Validation\n",
    "random_search = RandomizedSearchCV(\n",
    "    rf, param_distributions=param_dist,\n",
    "    n_iter=20, scoring='accuracy', cv=5, random_state=42, n_jobs=-1\n",
    ")\n",
    "\n",
    "# Latih model dengan data\n",
    "random_search.fit(X_train, y_train)\n",
    "\n",
    "# Tampilkan hasil tuning terbaik\n",
    "print(\"Best Parameters:\", random_search.best_params_)\n",
    "\n",
    "# Evaluasi model terbaik\n",
    "best_rf = random_search.best_estimator_\n",
    "y_pred = best_rf.predict(X_test)\n",
    "\n",
    "from sklearn.metrics import classification_report, accuracy_score\n",
    "print(\"Accuracy:\", accuracy_score(y_test, y_pred))\n",
    "print(classification_report(y_test, y_pred))"
   ]
  },
  {
   "cell_type": "markdown",
   "metadata": {},
   "source": [
    "---"
   ]
  },
  {
   "cell_type": "markdown",
   "metadata": {},
   "source": [
    "# **4. Conclusion and Recommendation**"
   ]
  },
  {
   "cell_type": "markdown",
   "metadata": {},
   "source": [
    "### Latar Belakang\n",
    "Analisis ini bertujuan untuk membangun model prediksi dalam menentukan apakah seorang nasabah akan melakukan deposito berjangka berdasarkan data dari Bank Marketing Campaign. Model yang digunakan adalah Decision Tree, Random Forest, dan XGBoost.\n",
    "\n",
    "### Hasil Model yang Dibandingkan\n",
    "Setelah melakukan eksplorasi data, pembersihan data, serta encoding fitur kategorik, dilakukan pemodelan dengan beberapa algoritma berikut:\n",
    "\n",
    "| Model | Akurasi | Precision (0/1) | Recall (0/1) | F1-Score (0/1) |\n",
    "| --- | --- | --- | --- | --- |\n",
    "| Decision Tree | 61.5% | 0.64 / 0.59 | 0.61 / 0.62 | 0.62 / 0.61 |\n",
    "| Random Forest | 67.1% | 0.67 / 0.67 | 0.73 / 0.61 | 0.70 / 0.64 |\n",
    "| XGBoost | 66.9% | 0.66 / 0.68 | 0.74 / 0.59 | 0.70 / 0.63 |\n",
    "| Random Forest (Tuned) | 70.1% | 0.68 / 0.75 | 0.82 / 0.57 | 0.74 / 0.64 |\n",
    "\n",
    "Dari tabel di atas, dapat dilihat bahwa setelah dilakukan tuning hyperparameter, Random Forest memberikan hasil terbaik dengan akurasi 70.1%.\n",
    "\n",
    "### Analisis Hasil\n",
    "\n",
    "Random Forest memiliki performa terbaik dibandingkan model lainnya setelah dilakukan tuning.\n",
    "\n",
    "Recall pada kelas 1 (nasabah yang melakukan deposit) masih lebih rendah dibandingkan recall pada kelas 0, menunjukkan bahwa model masih sedikit kesulitan dalam mengenali pelanggan yang akan melakukan deposito berjangka.\n",
    "\n",
    "Feature Importance menunjukkan bahwa fitur pdays, duration, dan campaign merupakan faktor utama dalam memprediksi keputusan pelanggan.\n",
    "\n",
    "### Kesimpulan\n",
    "- Model Random Forest dengan tuning hyperparameter dipilih sebagai model terbaik dengan akurasi 70.1%.\n",
    "- Model ini cukup baik untuk memprediksi pelanggan yang akan melakukan deposit, namun masih ada ruang untuk perbaikan terutama dalam meningkatkan recall kelas 1.\n",
    "- Jika ingin meningkatkan performa lebih lanjut, dapat dicoba pendekatan SMOTE (oversampling) untuk menyeimbangkan data atau eksplorasi lebih lanjut dengan LightGBM atau teknik Stacking Model.\n",
    "- Model ini dapat membantu bank dalam menargetkan kampanye pemasaran yang lebih efektif kepada calon pelanggan potensial.\n",
    "\n",
    "### Saran untuk Implementasi\n",
    "\n",
    "- Gunakan model ini sebagai alat bantu dalam strategi pemasaran bank, namun tetap dikombinasikan dengan pertimbangan bisnis lainnya.\n",
    "- Lakukan monitoring berkala terhadap performa model jika digunakan secara nyata, serta lakukan update model jika diperlukan.\n",
    "- Eksplorasi fitur tambahan seperti interaksi antar variabel atau data eksternal untuk meningkatkan prediksi lebih lanjut."
   ]
  }
 ],
 "metadata": {
  "kernelspec": {
   "display_name": "Python 3",
   "language": "python",
   "name": "python3"
  },
  "language_info": {
   "codemirror_mode": {
    "name": "ipython",
    "version": 3
   },
   "file_extension": ".py",
   "mimetype": "text/x-python",
   "name": "python",
   "nbconvert_exporter": "python",
   "pygments_lexer": "ipython3",
   "version": "3.13.0"
  }
 },
 "nbformat": 4,
 "nbformat_minor": 2
}
